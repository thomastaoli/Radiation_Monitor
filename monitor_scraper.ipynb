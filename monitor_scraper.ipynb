{
 "cells": [
  {
   "cell_type": "code",
   "execution_count": 9,
   "id": "1f5de1b6-772b-4d79-b6e9-2b707f123b4f",
   "metadata": {},
   "outputs": [],
   "source": [
    "import re"
   ]
  },
  {
   "cell_type": "code",
   "execution_count": 10,
   "id": "2e46e58a-a25a-494d-a8eb-bf1b8d6ee175",
   "metadata": {},
   "outputs": [],
   "source": [
    "import pandas as pd"
   ]
  },
  {
   "cell_type": "code",
   "execution_count": 11,
   "id": "96fd0833-eb6c-457e-af0c-844df3ba8c4b",
   "metadata": {},
   "outputs": [],
   "source": [
    "import requests\n",
    "from bs4 import BeautifulSoup"
   ]
  },
  {
   "cell_type": "code",
   "execution_count": 12,
   "id": "9bf9a4a3-caa9-4584-a3e5-b397f7e7fc9b",
   "metadata": {},
   "outputs": [],
   "source": [
    "import io"
   ]
  },
  {
   "cell_type": "code",
   "execution_count": 13,
   "id": "2cf8780a-6365-464a-b8d9-8d1bf07db481",
   "metadata": {},
   "outputs": [],
   "source": [
    "import csv\n",
    "from datetime import datetime"
   ]
  },
  {
   "cell_type": "markdown",
   "id": "e4cb7676-5586-4a4e-9fb0-44b4ef4b7140",
   "metadata": {},
   "source": [
    "Scraping the data from Japan"
   ]
  },
  {
   "cell_type": "code",
   "execution_count": 14,
   "id": "83497611-cd5a-4819-876b-2a3cc63d8678",
   "metadata": {},
   "outputs": [],
   "source": [
    "response_jp = requests.get(\"https://monitoring.tmiph.metro.tokyo.lg.jp/en/\")\n",
    "doc_jp = BeautifulSoup(response_jp.text)"
   ]
  },
  {
   "cell_type": "code",
   "execution_count": 15,
   "id": "4fae96cc-b8f6-4852-9fe7-e6564788aa95",
   "metadata": {},
   "outputs": [],
   "source": [
    "shinjuku = doc_jp.find(class_=\"card tcard\", id=\"shinjukuL\").get_text()\n",
    "shinjuku_data = re.findall(r'\\d+\\.\\d+', shinjuku)[0]"
   ]
  },
  {
   "cell_type": "markdown",
   "id": "afe21a35-2d0d-442a-83ec-837f3fd22969",
   "metadata": {},
   "source": [
    "Scraping the data from Taiwan"
   ]
  },
  {
   "cell_type": "code",
   "execution_count": 16,
   "id": "3160916b-6881-417d-95eb-6589b36a7fb1",
   "metadata": {},
   "outputs": [],
   "source": [
    "response_tw = requests.get(\"https://www.tldep.gov.taipei/EIACEP_EN/\")\n",
    "doc_tw = BeautifulSoup(response_tw.text)"
   ]
  },
  {
   "cell_type": "code",
   "execution_count": 17,
   "id": "e1b6e701-af9a-4729-b776-28179470a9ff",
   "metadata": {},
   "outputs": [],
   "source": [
    "rows = doc_tw.find_all('tr')\n",
    "for row in rows:\n",
    "    if 'DAZHI' in row.get_text():\n",
    "        radiation_cell = row.find('td', title=\"Radiation\")\n",
    "        if radiation_cell:\n",
    "            dazhi_data = radiation_cell.get_text()\n",
    "            break"
   ]
  },
  {
   "cell_type": "markdown",
   "id": "a5a99562-31f3-4b9b-9bf3-8fdf10cb1314",
   "metadata": {},
   "source": [
    "Scraping the data from Singapore"
   ]
  },
  {
   "cell_type": "code",
   "execution_count": 18,
   "id": "03856de0-e53b-47ff-8d40-3a6eca2e15de",
   "metadata": {},
   "outputs": [],
   "source": [
    "response_sg = requests.get(\"https://www.nea.gov.sg/our-services/radiation-safety/environmental-radiation-monitoring\")\n",
    "doc_sg = BeautifulSoup(response_sg.text)"
   ]
  },
  {
   "cell_type": "code",
   "execution_count": 19,
   "id": "12969aad-a0b2-47ea-9fe4-b64a05c65cc9",
   "metadata": {},
   "outputs": [],
   "source": [
    "rows = doc_sg.find_all('tr')\n",
    "central_data = None\n",
    "for row in rows:\n",
    "    if 'Central' in row.get_text():\n",
    "        central_data = row.find_all('td')[1].get_text().strip().split(' ')[0]"
   ]
  },
  {
   "cell_type": "markdown",
   "id": "0fc5b334-74e5-4e26-8361-8b55b7cb5c74",
   "metadata": {},
   "source": [
    "Scraping the data from Hong Kong"
   ]
  },
  {
   "cell_type": "code",
   "execution_count": 20,
   "id": "291aca51-5cd4-4e1d-bcd3-9bc9ef1600e9",
   "metadata": {},
   "outputs": [],
   "source": [
    "response_hk = requests.get('https://www.hko.gov.hk/radiation/monitoring/data/rmn_hourly_mean_used.txt?_=1701369406607')\n",
    "soup = BeautifulSoup(response_hk.text, 'html.parser')"
   ]
  },
  {
   "cell_type": "code",
   "execution_count": 21,
   "id": "99ecf710-2d7d-4515-8682-b637dc975899",
   "metadata": {},
   "outputs": [],
   "source": [
    "text = soup.get_text()\n",
    "lines = text.split('\\n')\n",
    "kp_data = None\n",
    "for line in lines:\n",
    "    if line.startswith(\" KP\"):\n",
    "        kp_data = line.split()[-1]"
   ]
  },
  {
   "cell_type": "markdown",
   "id": "f9432721-751d-4e58-86f2-e60cbadd0882",
   "metadata": {},
   "source": [
    "Scraping the data from China"
   ]
  },
  {
   "cell_type": "code",
   "execution_count": 22,
   "id": "b95385e7-9733-4870-ad22-8e62ce55d28e",
   "metadata": {},
   "outputs": [],
   "source": [
    "response_cn = requests.get(\"http://ditu.92cha.com/kqxsjll.php\")\n",
    "soup_cn = BeautifulSoup(response_cn.text, \"html.parser\")"
   ]
  },
  {
   "cell_type": "code",
   "execution_count": 23,
   "id": "35cb03e5-b252-49b0-a888-d488e5add8e8",
   "metadata": {},
   "outputs": [],
   "source": [
    "table = soup_cn.find('table', class_='table')\n",
    "for row in table.find_all('tr'):\n",
    "    columns = row.find_all('td')\n",
    "    if columns:\n",
    "        province, station, measurement_time, value = [col.text.strip() for col in columns]\n",
    "        if station == \"宁波宝善路站\":\n",
    "            nb_data = float(value) / 1000\n",
    "        if station == \"奥林匹克森林公园站\":\n",
    "            bj_data = float(value) / 1000\n",
    "        if station == \"浦东新区临港站\":\n",
    "            sh_data = float(value) / 1000\n",
    "        if station == \"广州大道站\":\n",
    "            can_data = float(value) / 1000\n",
    "        if station == \"成都熊猫基地站\":\n",
    "            cd_data = float(value) / 1000\n",
    "        if station == \"乌鲁木齐北京中路站\":\n",
    "            uru_data = float(value) / 1000"
   ]
  },
  {
   "cell_type": "markdown",
   "id": "13bb5d48-4f22-4d3f-83c4-8073cc4d9bd5",
   "metadata": {},
   "source": [
    "Put the data into the log"
   ]
  },
  {
   "cell_type": "code",
   "execution_count": 24,
   "id": "3b7b6b71-1b49-4df3-9618-8ba8fb2acc89",
   "metadata": {},
   "outputs": [],
   "source": [
    "headers = [\"Time\", \"Tokyo\", \"Hong Kong\", \"Taipei\", \"Singapore\", \"Beijing\", \"Shanghai\", \"Guangzhou\", \"Ningbo (Thomas's Hometown)\", \"Chengdu\", \"Urumqi\"]\n",
    "\n",
    "new_data_row = [datetime.now().strftime(\"%Y-%m-%d %H:%M:%S\"), shinjuku_data, kp_data, dazhi_data, \n",
    "                central_data, bj_data, sh_data, can_data, nb_data, cd_data, uru_data]\n",
    "\n",
    "with open('radiation_log.csv', 'a', newline='') as file:\n",
    "    writer = csv.writer(file)\n",
    "    writer.writerow(new_data_row)"
   ]
  },
  {
   "cell_type": "markdown",
   "id": "3b69eadf-b488-4e19-b403-561f0724b8c6",
   "metadata": {},
   "source": [
    "Create a data log with only the data in the past 7 days"
   ]
  },
  {
   "cell_type": "code",
   "execution_count": 25,
   "id": "685ad2db-d5da-4d4a-a6d6-b388ad77e88d",
   "metadata": {},
   "outputs": [],
   "source": [
    "source_file_path = 'radiation_log.csv'\n",
    "destination_file_path = 'radiation_log_week.csv' \n",
    "\n",
    "with open(source_file_path, 'r', newline='') as source_file:\n",
    "    reader = csv.reader(source_file)\n",
    "    all_rows = list(reader)\n",
    "\n",
    "headers = all_rows[0] \n",
    "data_rows = all_rows[-7:] if len(all_rows) > 8 else all_rows[1:]\n",
    "\n",
    "with open(destination_file_path, 'w', newline='') as destination_file:\n",
    "    writer = csv.writer(destination_file)\n",
    "    writer.writerow(headers)\n",
    "    writer.writerows(data_rows)"
   ]
  },
  {
   "cell_type": "markdown",
   "id": "544c1935-046f-4548-9a56-d6d808539ab0",
   "metadata": {},
   "source": [
    "Create a data log with only the latest data"
   ]
  },
  {
   "cell_type": "code",
   "execution_count": 26,
   "id": "98d0eb0d-0a13-4fb2-92b0-426e35abc594",
   "metadata": {},
   "outputs": [],
   "source": [
    "latest_radiation_data = {\n",
    "    \"Tokyo\": shinjuku_data, \n",
    "    \"Hong Kong\": kp_data, \n",
    "    \"Taipei\": dazhi_data, \n",
    "    \"Singapore\": central_data, \n",
    "    \"Beijing\": bj_data, \n",
    "    \"Shanghai\": sh_data, \n",
    "    \"Guangzhou\": can_data, \n",
    "    \"Ningbo (Thomas's Hometown)\": nb_data,\n",
    "    \"Chengdu\": cd_data,\n",
    "    \"Urumqi\": uru_data\n",
    "}\n",
    "\n",
    "with open('radiation_log_map.csv', 'r', newline='') as file:\n",
    "    reader = csv.DictReader(file)\n",
    "    fieldnames = reader.fieldnames\n",
    "    current_data = list(reader)\n",
    "\n",
    "for row in current_data:\n",
    "    city = row[\"City\"]\n",
    "    if city in latest_radiation_data:\n",
    "        row[\"Latest Data\"] = latest_radiation_data[city]\n",
    "    row[\"Time\"] = datetime.now().strftime(\"%Y-%m-%d %H:%M:%S\")\n",
    "\n",
    "with open('radiation_log_map.csv', 'w', newline='') as file:\n",
    "    writer = csv.DictWriter(file, fieldnames=fieldnames)\n",
    "    writer.writeheader()\n",
    "    writer.writerows(current_data)"
   ]
  },
  {
   "cell_type": "code",
   "execution_count": null,
   "id": "7bf7b76a-61aa-43b9-8545-c560ef9d5691",
   "metadata": {},
   "outputs": [],
   "source": []
  }
 ],
 "metadata": {
  "kernelspec": {
   "display_name": "Python 3 (ipykernel)",
   "language": "python",
   "name": "python3"
  },
  "language_info": {
   "codemirror_mode": {
    "name": "ipython",
    "version": 3
   },
   "file_extension": ".py",
   "mimetype": "text/x-python",
   "name": "python",
   "nbconvert_exporter": "python",
   "pygments_lexer": "ipython3",
   "version": "3.11.6"
  }
 },
 "nbformat": 4,
 "nbformat_minor": 5
}
